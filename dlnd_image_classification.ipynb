{
 "cells": [
  {
   "cell_type": "markdown",
   "metadata": {
    "collapsed": true
   },
   "source": [
    "# Image Classification\n",
    "In this project, you'll classify images from the [CIFAR-10 dataset](https://www.cs.toronto.edu/~kriz/cifar.html).  The dataset consists of airplanes, dogs, cats, and other objects. You'll preprocess the images, then train a convolutional neural network on all the samples. The images need to be normalized and the labels need to be one-hot encoded.  You'll get to apply what you learned and build a convolutional, max pooling, dropout, and fully connected layers.  At the end, you'll get to see your neural network's predictions on the sample images.\n",
    "## Get the Data\n",
    "Run the following cell to download the [CIFAR-10 dataset for python](https://www.cs.toronto.edu/~kriz/cifar-10-python.tar.gz)."
   ]
  },
  {
   "cell_type": "code",
   "execution_count": 4,
   "metadata": {},
   "outputs": [
    {
     "name": "stderr",
     "output_type": "stream",
     "text": [
      "CIFAR-10 Dataset: 171MB [13:10, 216KB/s]                                                                               \n"
     ]
    },
    {
     "name": "stdout",
     "output_type": "stream",
     "text": [
      "All files found!\n"
     ]
    }
   ],
   "source": [
    "\"\"\"\n",
    "DON'T MODIFY ANYTHING IN THIS CELL THAT IS BELOW THIS LINE\n",
    "\"\"\"\n",
    "from urllib.request import urlretrieve\n",
    "from os.path import isfile, isdir\n",
    "from tqdm import tqdm\n",
    "import problem_unittests as tests\n",
    "import tarfile\n",
    "\n",
    "cifar10_dataset_folder_path = 'cifar-10-batches-py'\n",
    "\n",
    "# Use Floyd's cifar-10 dataset if present\n",
    "floyd_cifar10_location = '/input/cifar-10/python.tar.gz'\n",
    "if isfile(floyd_cifar10_location):\n",
    "    tar_gz_path = floyd_cifar10_location\n",
    "else:\n",
    "    tar_gz_path = 'cifar-10-python.tar.gz'\n",
    "\n",
    "class DLProgress(tqdm):\n",
    "    last_block = 0\n",
    "\n",
    "    def hook(self, block_num=1, block_size=1, total_size=None):\n",
    "        self.total = total_size\n",
    "        self.update((block_num - self.last_block) * block_size)\n",
    "        self.last_block = block_num\n",
    "\n",
    "if not isfile(tar_gz_path):\n",
    "    with DLProgress(unit='B', unit_scale=True, miniters=1, desc='CIFAR-10 Dataset') as pbar:\n",
    "        urlretrieve(\n",
    "            'https://www.cs.toronto.edu/~kriz/cifar-10-python.tar.gz',\n",
    "            tar_gz_path,\n",
    "            pbar.hook)\n",
    "\n",
    "if not isdir(cifar10_dataset_folder_path):\n",
    "    with tarfile.open(tar_gz_path) as tar:\n",
    "        tar.extractall()\n",
    "        tar.close()\n",
    "\n",
    "\n",
    "tests.test_folder_path(cifar10_dataset_folder_path)"
   ]
  },
  {
   "cell_type": "markdown",
   "metadata": {},
   "source": [
    "## Explore the Data\n",
    "The dataset is broken into batches to prevent your machine from running out of memory.  The CIFAR-10 dataset consists of 5 batches, named `data_batch_1`, `data_batch_2`, etc.. Each batch contains the labels and images that are one of the following:\n",
    "* airplane\n",
    "* automobile\n",
    "* bird\n",
    "* cat\n",
    "* deer\n",
    "* dog\n",
    "* frog\n",
    "* horse\n",
    "* ship\n",
    "* truck\n",
    "\n",
    "Understanding a dataset is part of making predictions on the data.  Play around with the code cell below by changing the `batch_id` and `sample_id`. The `batch_id` is the id for a batch (1-5). The `sample_id` is the id for a image and label pair in the batch.\n",
    "\n",
    "Ask yourself \"What are all possible labels?\", \"What is the range of values for the image data?\", \"Are the labels in order or random?\".  Answers to questions like these will help you preprocess the data and end up with better predictions."
   ]
  },
  {
   "cell_type": "code",
   "execution_count": 5,
   "metadata": {},
   "outputs": [
    {
     "name": "stdout",
     "output_type": "stream",
     "text": [
      "\n",
      "Stats of batch 1:\n",
      "Samples: 10000\n",
      "Label Counts: {0: 1005, 1: 974, 2: 1032, 3: 1016, 4: 999, 5: 937, 6: 1030, 7: 1001, 8: 1025, 9: 981}\n",
      "First 20 Labels: [6, 9, 9, 4, 1, 1, 2, 7, 8, 3, 4, 7, 7, 2, 9, 9, 9, 3, 2, 6]\n",
      "\n",
      "Example of Image 5:\n",
      "Image - Min Value: 0 Max Value: 252\n",
      "Image - Shape: (32, 32, 3)\n",
      "Label - Label Id: 1 Name: automobile\n"
     ]
    },
    {
     "data": {
      "image/png": "[encoded data removed]",
      "text/plain": [
       "<matplotlib.figure.Figure at 0x248b736a828>"
      ]
     },
     "metadata": {
      "image/png": {
       "height": 250,
       "width": 253
      }
     },
     "output_type": "display_data"
    }
   ],
   "source": [
    "%matplotlib inline\n",
    "%config InlineBackend.figure_format = 'retina'\n",
    "\n",
    "import helper\n",
    "import numpy as np\n",
    "\n",
    "# Explore the dataset\n",
    "batch_id = 1\n",
    "sample_id = 5\n",
    "helper.display_stats(cifar10_dataset_folder_path, batch_id, sample_id)"
   ]
  },
  {
   "cell_type": "markdown",
   "metadata": {},
   "source": [
    "## Implement Preprocess Functions\n",
    "### Normalize\n",
    "In the cell below, implement the `normalize` function to take in image data, `x`, and return it as a normalized Numpy array. The values should be in the range of 0 to 1, inclusive.  The return object should be the same shape as `x`."
   ]
  },
  {
   "cell_type": "code",
   "execution_count": 8,
   "metadata": {},
   "outputs": [
    {
     "name": "stdout",
     "output_type": "stream",
     "text": [
      "Tests Passed\n"
     ]
    }
   ],
   "source": [
    "def normalize(x):\n",
    "    \"\"\"\n",
    "    Normalize a list of sample image data in the range of 0 to 1\n",
    "    : x: List of image data.  The image shape is (32, 32, 3)\n",
    "    : return: Numpy array of normalize data\n",
    "    \"\"\"\n",
    "    # TODO: Implement Function\n",
    "    return x/255\n",
    "\n",
    "\n",
    "\"\"\"\n",
    "DON'T MODIFY ANYTHING IN THIS CELL THAT IS BELOW THIS LINE\n",
    "\"\"\"\n",
    "tests.test_normalize(normalize)"
   ]
  },
  {
   "cell_type": "markdown",
   "metadata": {},
   "source": [
    "### One-hot encode\n",
    "Just like the previous code cell, you'll be implementing a function for preprocessing.  This time, you'll implement the `one_hot_encode` function. The input, `x`, are a list of labels.  Implement the function to return the list of labels as One-Hot encoded Numpy array.  The possible values for labels are 0 to 9. The one-hot encoding function should return the same encoding for each value between each call to `one_hot_encode`.  Make sure to save the map of encodings outside the function.\n",
    "\n",
    "Hint: Don't reinvent the wheel."
   ]
  },
  {
   "cell_type": "code",
   "execution_count": 9,
   "metadata": {},
   "outputs": [
    {
     "name": "stdout",
     "output_type": "stream",
     "text": [
      "Tests Passed\n"
     ]
    }
   ],
   "source": [
    "def one_hot_encode(x):\n",
    "    \"\"\"\n",
    "    One hot encode a list of sample labels. Return a one-hot encoded vector for each label.\n",
    "    : x: List of sample Labels\n",
    "    : return: Numpy array of one-hot encoded labels\n",
    "    \"\"\"\n",
    "    # TODO: Implement Function\n",
    "    return np.eye(10)[x]\n",
    "\n",
    "\n",
    "\"\"\"\n",
    "DON'T MODIFY ANYTHING IN THIS CELL THAT IS BELOW THIS LINE\n",
    "\"\"\"\n",
    "tests.test_one_hot_encode(one_hot_encode)"
   ]
  },
  {
   "cell_type": "markdown",
   "metadata": {},
   "source": [
    "### Randomize Data\n",
    "As you saw from exploring the data above, the order of the samples are randomized.  It doesn't hurt to randomize it again, but you don't need to for this dataset."
   ]
  },
  {
   "cell_type": "markdown",
   "metadata": {},
   "source": [
    "## Preprocess all the data and save it\n",
    "Running the code cell below will preprocess all the CIFAR-10 data and save it to file. The code below also uses 10% of the training data for validation."
   ]
  },
  {
   "cell_type": "code",
   "execution_count": 10,
   "metadata": {},
   "outputs": [],
   "source": [
    "\"\"\"\n",
    "DON'T MODIFY ANYTHING IN THIS CELL\n",
    "\"\"\"\n",
    "# Preprocess Training, Validation, and Testing Data\n",
    "helper.preprocess_and_save_data(cifar10_dataset_folder_path, normalize, one_hot_encode)"
   ]
  },
  {
   "cell_type": "markdown",
   "metadata": {},
   "source": [
    "# Check Point\n",
    "This is your first checkpoint.  If you ever decide to come back to this notebook or have to restart the notebook, you can start from here.  The preprocessed data has been saved to disk."
   ]
  },
  {
   "cell_type": "code",
   "execution_count": 11,
   "metadata": {
    "collapsed": true
   },
   "outputs": [],
   "source": [
    "\"\"\"\n",
    "DON'T MODIFY ANYTHING IN THIS CELL\n",
    "\"\"\"\n",
    "import pickle\n",
    "import problem_unittests as tests\n",
    "import helper\n",
    "\n",
    "# Load the Preprocessed Validation data\n",
    "valid_features, valid_labels = pickle.load(open('preprocess_validation.p', mode='rb'))"
   ]
  },
  {
   "cell_type": "markdown",
   "metadata": {},
   "source": [
    "## Build the network\n",
    "For the neural network, you'll build each layer into a function.  Most of the code you've seen has been outside of functions. To test your code more thoroughly, we require that you put each layer in a function.  This allows us to give you better feedback and test for simple mistakes using our unittests before you submit your project.\n",
    "\n",
    ">**Note:** If you're finding it hard to dedicate enough time for this course each week, we've provided a small shortcut to this part of the project. In the next couple of problems, you'll have the option to use classes from the [TensorFlow Layers](https://www.tensorflow.org/api_docs/python/tf/layers) or [TensorFlow Layers (contrib)](https://www.tensorflow.org/api_guides/python/contrib.layers) packages to build each layer, except the layers you build in the \"Convolutional and Max Pooling Layer\" section.  TF Layers is similar to Keras's and TFLearn's abstraction to layers, so it's easy to pickup.\n",
    "\n",
    ">However, if you would like to get the most out of this course, try to solve all the problems _without_ using anything from the TF Layers packages. You **can** still use classes from other packages that happen to have the same name as ones you find in TF Layers! For example, instead of using the TF Layers version of the `conv2d` class, [tf.layers.conv2d](https://www.tensorflow.org/api_docs/python/tf/layers/conv2d), you would want to use the TF Neural Network version of `conv2d`, [tf.nn.conv2d](https://www.tensorflow.org/api_docs/python/tf/nn/conv2d). \n",
    "\n",
    "Let's begin!\n",
    "\n",
    "### Input\n",
    "The neural network needs to read the image data, one-hot encoded labels, and dropout keep probability. Implement the following functions\n",
    "* Implement `neural_net_image_input`\n",
    " * Return a [TF Placeholder](https://www.tensorflow.org/api_docs/python/tf/placeholder)\n",
    " * Set the shape using `image_shape` with batch size set to `None`.\n",
    " * Name the TensorFlow placeholder \"x\" using the TensorFlow `name` parameter in the [TF Placeholder](https://www.tensorflow.org/api_docs/python/tf/placeholder).\n",
    "* Implement `neural_net_label_input`\n",
    " * Return a [TF Placeholder](https://www.tensorflow.org/api_docs/python/tf/placeholder)\n",
    " * Set the shape using `n_classes` with batch size set to `None`.\n",
    " * Name the TensorFlow placeholder \"y\" using the TensorFlow `name` parameter in the [TF Placeholder](https://www.tensorflow.org/api_docs/python/tf/placeholder).\n",
    "* Implement `neural_net_keep_prob_input`\n",
    " * Return a [TF Placeholder](https://www.tensorflow.org/api_docs/python/tf/placeholder) for dropout keep probability.\n",
    " * Name the TensorFlow placeholder \"keep_prob\" using the TensorFlow `name` parameter in the [TF Placeholder](https://www.tensorflow.org/api_docs/python/tf/placeholder).\n",
    "\n",
    "These names will be used at the end of the project to load your saved model.\n",
    "\n",
    "Note: `None` for shapes in TensorFlow allow for a dynamic size."
   ]
  },
  {
   "cell_type": "code",
   "execution_count": 12,
   "metadata": {},
   "outputs": [
    {
     "name": "stdout",
     "output_type": "stream",
     "text": [
      "Image Input Tests Passed.\n",
      "Label Input Tests Passed.\n",
      "Keep Prob Tests Passed.\n"
     ]
    }
   ],
   "source": [
    "import tensorflow as tf\n",
    "\n",
    "def neural_net_image_input(image_shape):\n",
    "    \"\"\"\n",
    "    Return a Tensor for a batch of image input\n",
    "    : image_shape: Shape of the images\n",
    "    : return: Tensor for image input.\n",
    "    \"\"\"\n",
    "    # TODO: Implement Function\n",
    "    return tf.placeholder(tf.float32, [None, image_shape[0], image_shape[1], image_shape[2]], name=\"x\")\n",
    "\n",
    "\n",
    "def neural_net_label_input(n_classes):\n",
    "    \"\"\"\n",
    "    Return a Tensor for a batch of label input\n",
    "    : n_classes: Number of classes\n",
    "    : return: Tensor for label input.\n",
    "    \"\"\"\n",
    "    # TODO: Implement Function\n",
    "    return tf.placeholder(tf.float32, [None, n_classes], name=\"y\")\n",
    "\n",
    "\n",
    "def neural_net_keep_prob_input():\n",
    "    \"\"\"\n",
    "    Return a Tensor for keep probability\n",
    "    : return: Tensor for keep probability.\n",
    "    \"\"\"\n",
    "    # TODO: Implement Function\n",
    "    return tf.placeholder(tf.float32, name=\"keep_prob\")\n",
    "\n",
    "\n",
    "\"\"\"\n",
    "DON'T MODIFY ANYTHING IN THIS CELL THAT IS BELOW THIS LINE\n",
    "\"\"\"\n",
    "tf.reset_default_graph()\n",
    "tests.test_nn_image_inputs(neural_net_image_input)\n",
    "tests.test_nn_label_inputs(neural_net_label_input)\n",
    "tests.test_nn_keep_prob_inputs(neural_net_keep_prob_input)"
   ]
  },
  {
   "cell_type": "markdown",
   "metadata": {},
   "source": [
    "### Convolution and Max Pooling Layer\n",
    "Convolution layers have a lot of success with images. For this code cell, you should implement the function `conv2d_maxpool` to apply convolution then max pooling:\n",
    "* Create the weight and bias using `conv_ksize`, `conv_num_outputs` and the shape of `x_tensor`.\n",
    "* Apply a convolution to `x_tensor` using weight and `conv_strides`.\n",
    " * We recommend you use same padding, but you're welcome to use any padding.\n",
    "* Add bias\n",
    "* Add a nonlinear activation to the convolution.\n",
    "* Apply Max Pooling using `pool_ksize` and `pool_strides`.\n",
    " * We recommend you use same padding, but you're welcome to use any padding.\n",
    "\n",
    "**Note:** You **can't** use [TensorFlow Layers](https://www.tensorflow.org/api_docs/python/tf/layers) or [TensorFlow Layers (contrib)](https://www.tensorflow.org/api_guides/python/contrib.layers) for **this** layer, but you can still use TensorFlow's [Neural Network](https://www.tensorflow.org/api_docs/python/tf/nn) package. You may still use the shortcut option for all the **other** layers."
   ]
  },
  {
   "cell_type": "code",
   "execution_count": 18,
   "metadata": {},
   "outputs": [
    {
     "name": "stdout",
     "output_type": "stream",
     "text": [
      "Tests Passed\n"
     ]
    }
   ],
   "source": [
    "def conv2d_maxpool(x_tensor, conv_num_outputs, conv_ksize, conv_strides, pool_ksize, pool_strides):\n",
    "    \"\"\"\n",
    "    Apply convolution then max pooling to x_tensor\n",
    "    :param x_tensor: TensorFlow Tensor\n",
    "    :param conv_num_outputs: Number of outputs for the convolutional layer\n",
    "    :param conv_ksize: kernal size 2-D Tuple for the convolutional layer\n",
    "    :param conv_strides: Stride 2-D Tuple for convolution\n",
    "    :param pool_ksize: kernal size 2-D Tuple for pool\n",
    "    :param pool_strides: Stride 2-D Tuple for pool\n",
    "    : return: A tensor that represents convolution and max pooling of x_tensor\n",
    "    \"\"\"\n",
    "    # TODO: Implement Function\n",
    "    filter_depth = x_tensor.get_shape().as_list()[3]\n",
    "    w = tf.Variable(tf.truncated_normal([conv_ksize[0], conv_ksize[1], filter_depth, conv_num_outputs], stddev=0.1))\n",
    "    b = tf.Variable(tf.zeros([conv_num_outputs]))\n",
    "    x_tensor = tf.nn.conv2d(x_tensor, w, strides=[1, conv_strides[0], conv_strides[1], 1], padding='SAME')\n",
    "    x_tensor = tf.nn.bias_add(x_tensor, b)\n",
    "    x_tensor = tf.nn.relu(x_tensor)\n",
    "    x_tensor = tf.nn.max_pool(x_tensor, ksize=[1, pool_ksize[0], pool_ksize[1], 1], strides=[1, pool_strides[0], pool_strides[1], 1], padding='SAME')\n",
    "    return x_tensor \n",
    "\n",
    "\n",
    "\"\"\"\n",
    "DON'T MODIFY ANYTHING IN THIS CELL THAT IS BELOW THIS LINE\n",
    "\"\"\"\n",
    "tests.test_con_pool(conv2d_maxpool)"
   ]
  },
  {
   "cell_type": "markdown",
   "metadata": {},
   "source": [
    "### Flatten Layer\n",
    "Implement the `flatten` function to change the dimension of `x_tensor` from a 4-D tensor to a 2-D tensor.  The output should be the shape (*Batch Size*, *Flattened Image Size*). Shortcut option: you can use classes from the [TensorFlow Layers](https://www.tensorflow.org/api_docs/python/tf/layers) or [TensorFlow Layers (contrib)](https://www.tensorflow.org/api_guides/python/contrib.layers) packages for this layer. For more of a challenge, only use other TensorFlow packages."
   ]
  },
  {
   "cell_type": "code",
   "execution_count": 14,
   "metadata": {},
   "outputs": [
    {
     "name": "stdout",
     "output_type": "stream",
     "text": [
      "Tests Passed\n"
     ]
    }
   ],
   "source": [
    "def flatten(x_tensor):\n",
    "    \"\"\"\n",
    "    Flatten x_tensor to (Batch Size, Flattened Image Size)\n",
    "    : x_tensor: A tensor of size (Batch Size, ...), where ... are the image dimensions.\n",
    "    : return: A tensor of size (Batch Size, Flattened Image Size).\n",
    "    \"\"\"\n",
    "    # TODO: Implement Function\n",
    "    return tf.contrib.layers.flatten(x_tensor)\n",
    "\n",
    "\n",
    "\"\"\"\n",
    "DON'T MODIFY ANYTHING IN THIS CELL THAT IS BELOW THIS LINE\n",
    "\"\"\"\n",
    "tests.test_flatten(flatten)"
   ]
  },
  {
   "cell_type": "markdown",
   "metadata": {},
   "source": [
    "### Fully-Connected Layer\n",
    "Implement the `fully_conn` function to apply a fully connected layer to `x_tensor` with the shape (*Batch Size*, *num_outputs*). Shortcut option: you can use classes from the [TensorFlow Layers](https://www.tensorflow.org/api_docs/python/tf/layers) or [TensorFlow Layers (contrib)](https://www.tensorflow.org/api_guides/python/contrib.layers) packages for this layer. For more of a challenge, only use other TensorFlow packages."
   ]
  },
  {
   "cell_type": "code",
   "execution_count": 22,
   "metadata": {},
   "outputs": [
    {
     "name": "stdout",
     "output_type": "stream",
     "text": [
      "Tests Passed\n"
     ]
    }
   ],
   "source": [
    "def fully_conn(x_tensor, num_outputs):\n",
    "    \"\"\"\n",
    "    Apply a fully connected layer to x_tensor using weight and bias\n",
    "    : x_tensor: A 2-D tensor where the first dimension is batch size.\n",
    "    : num_outputs: The number of output that the new tensor should be.\n",
    "    : return: A 2-D tensor where the second dimension is num_outputs.\n",
    "    \"\"\"\n",
    "    # TODO: Implement Function\n",
    "    ip_shape = x_tensor.get_shape().as_list()[1]\n",
    "    w = tf.Variable(tf.truncated_normal([ip_shape, num_outputs], stddev=0.1))\n",
    "    b = tf.Variable(tf.zeros([num_outputs]))\n",
    "    x_tensor = tf.add(tf.matmul(x_tensor, w), b)\n",
    "    return tf.nn.relu(x_tensor)\n",
    "\n",
    "\n",
    "\"\"\"\n",
    "DON'T MODIFY ANYTHING IN THIS CELL THAT IS BELOW THIS LINE\n",
    "\"\"\"\n",
    "tests.test_fully_conn(fully_conn)"
   ]
  },
  {
   "cell_type": "markdown",
   "metadata": {},
   "source": [
    "### Output Layer\n",
    "Implement the `output` function to apply a fully connected layer to `x_tensor` with the shape (*Batch Size*, *num_outputs*). Shortcut option: you can use classes from the [TensorFlow Layers](https://www.tensorflow.org/api_docs/python/tf/layers) or [TensorFlow Layers (contrib)](https://www.tensorflow.org/api_guides/python/contrib.layers) packages for this layer. For more of a challenge, only use other TensorFlow packages.\n",
    "\n",
    "**Note:** Activation, softmax, or cross entropy should **not** be applied to this."
   ]
  },
  {
   "cell_type": "code",
   "execution_count": 25,
   "metadata": {},
   "outputs": [
    {
     "name": "stdout",
     "output_type": "stream",
     "text": [
      "Tests Passed\n"
     ]
    }
   ],
   "source": [
    "def output(x_tensor, num_outputs):\n",
    "    \"\"\"\n",
    "    Apply a output layer to x_tensor using weight and bias\n",
    "    : x_tensor: A 2-D tensor where the first dimension is batch size.\n",
    "    : num_outputs: The number of output that the new tensor should be.\n",
    "    : return: A 2-D tensor where the second dimension is num_outputs.\n",
    "    \"\"\"\n",
    "    # TODO: Implement Function\n",
    "    ip_shape = x_tensor.get_shape().as_list()[1]\n",
    "    w = tf.Variable(tf.truncated_normal([ip_shape, num_outputs], stddev=0.1))\n",
    "    b = tf.Variable(tf.zeros([num_outputs]))\n",
    "    return tf.add(tf.matmul(x_tensor, w), b)\n",
    "\n",
    "\n",
    "\"\"\"\n",
    "DON'T MODIFY ANYTHING IN THIS CELL THAT IS BELOW THIS LINE\n",
    "\"\"\"\n",
    "tests.test_output(output)"
   ]
  },
  {
   "cell_type": "markdown",
   "metadata": {},
   "source": [
    "### Create Convolutional Model\n",
    "Implement the function `conv_net` to create a convolutional neural network model. The function takes in a batch of images, `x`, and outputs logits.  Use the layers you created above to create this model:\n",
    "\n",
    "* Apply 1, 2, or 3 Convolution and Max Pool layers\n",
    "* Apply a Flatten Layer\n",
    "* Apply 1, 2, or 3 Fully Connected Layers\n",
    "* Apply an Output Layer\n",
    "* Return the output\n",
    "* Apply [TensorFlow's Dropout](https://www.tensorflow.org/api_docs/python/tf/nn/dropout) to one or more layers in the model using `keep_prob`. "
   ]
  },
  {
   "cell_type": "code",
   "execution_count": 38,
   "metadata": {},
   "outputs": [
    {
     "name": "stdout",
     "output_type": "stream",
     "text": [
      "Neural Network Built!\n"
     ]
    }
   ],
   "source": [
    "def conv_net(x, keep_prob):\n",
    "    \"\"\"\n",
    "    Create a convolutional neural network model\n",
    "    : x: Placeholder tensor that holds image data.\n",
    "    : keep_prob: Placeholder tensor that hold dropout keep probability.\n",
    "    : return: Tensor that represents logits\n",
    "    \"\"\"\n",
    "    # TODO: Apply 1, 2, or 3 Convolution and Max Pool layers\n",
    "    #    Play around with different number of outputs, kernel size and stride\n",
    "    # Function Definition from Above:\n",
    "    #    conv2d_maxpool(x_tensor, conv_num_outputs, conv_ksize, conv_strides, pool_ksize, pool_strides)\n",
    "    layer1 = conv2d_maxpool(x, 16, (3, 3), (1, 1), (2, 2), (2, 2))\n",
    "    layer2 = conv2d_maxpool(layer1, 32, (3, 3), (1, 1), (2, 2), (2, 2))\n",
    "    layer3 = conv2d_maxpool(layer2, 64, (3, 3), (1, 1), (2, 2), (2, 2))\n",
    "    layer4 = conv2d_maxpool(layer2, 128, (3, 3), (1, 1), (2, 2), (2, 2))\n",
    "\n",
    "    # TODO: Apply a Flatten Layer\n",
    "    # Function Definition from Above:\n",
    "    #   flatten(x_tensor)\n",
    "    flat_layer = flatten(layer4)\n",
    "\n",
    "    # TODO: Apply 1, 2, or 3 Fully Connected Layers\n",
    "    #    Play around with different number of outputs\n",
    "    # Function Definition from Above:\n",
    "    #   fully_conn(x_tensor, num_outputs)\n",
    "    fc = fully_conn(flat_layer, 128)\n",
    "    fc = tf.nn.dropout(fc, keep_prob)\n",
    "    fc = fully_conn(fc, 64)\n",
    "    fc = tf.nn.dropout(fc, keep_prob)\n",
    "    \n",
    "    # TODO: Apply an Output Layer\n",
    "    #    Set this to the number of classes\n",
    "    # Function Definition from Above:\n",
    "    #   output(x_tensor, num_outputs)\n",
    "    out = output(fc, 10)\n",
    "    \n",
    "    # TODO: return output\n",
    "    return out\n",
    "\n",
    "\n",
    "\"\"\"\n",
    "DON'T MODIFY ANYTHING IN THIS CELL THAT IS BELOW THIS LINE\n",
    "\"\"\"\n",
    "\n",
    "##############################\n",
    "## Build the Neural Network ##\n",
    "##############################\n",
    "\n",
    "# Remove previous weights, bias, inputs, etc..\n",
    "tf.reset_default_graph()\n",
    "\n",
    "# Inputs\n",
    "x = neural_net_image_input((32, 32, 3))\n",
    "y = neural_net_label_input(10)\n",
    "keep_prob = neural_net_keep_prob_input()\n",
    "\n",
    "# Model\n",
    "logits = conv_net(x, keep_prob)\n",
    "\n",
    "# Name logits Tensor, so that is can be loaded from disk after training\n",
    "logits = tf.identity(logits, name='logits')\n",
    "\n",
    "# Loss and Optimizer\n",
    "cost = tf.reduce_mean(tf.nn.softmax_cross_entropy_with_logits(logits=logits, labels=y))\n",
    "optimizer = tf.train.AdamOptimizer().minimize(cost)\n",
    "\n",
    "# Accuracy\n",
    "correct_pred = tf.equal(tf.argmax(logits, 1), tf.argmax(y, 1))\n",
    "accuracy = tf.reduce_mean(tf.cast(correct_pred, tf.float32), name='accuracy')\n",
    "\n",
    "tests.test_conv_net(conv_net)"
   ]
  },
  {
   "cell_type": "markdown",
   "metadata": {},
   "source": [
    "## Train the Neural Network\n",
    "### Single Optimization\n",
    "Implement the function `train_neural_network` to do a single optimization.  The optimization should use `optimizer` to optimize in `session` with a `feed_dict` of the following:\n",
    "* `x` for image input\n",
    "* `y` for labels\n",
    "* `keep_prob` for keep probability for dropout\n",
    "\n",
    "This function will be called for each batch, so `tf.global_variables_initializer()` has already been called.\n",
    "\n",
    "Note: Nothing needs to be returned. This function is only optimizing the neural network."
   ]
  },
  {
   "cell_type": "code",
   "execution_count": 39,
   "metadata": {},
   "outputs": [
    {
     "name": "stdout",
     "output_type": "stream",
     "text": [
      "Tests Passed\n"
     ]
    }
   ],
   "source": [
    "def train_neural_network(session, optimizer, keep_probability, feature_batch, label_batch):\n",
    "    \"\"\"\n",
    "    Optimize the session on a batch of images and labels\n",
    "    : session: Current TensorFlow session\n",
    "    : optimizer: TensorFlow optimizer function\n",
    "    : keep_probability: keep probability\n",
    "    : feature_batch: Batch of Numpy image data\n",
    "    : label_batch: Batch of Numpy label data\n",
    "    \"\"\"\n",
    "    # TODO: Implement Function\n",
    "    session.run(optimizer, feed_dict={x: feature_batch, y: label_batch, keep_prob: keep_probability})\n",
    "\n",
    "\n",
    "\"\"\"\n",
    "DON'T MODIFY ANYTHING IN THIS CELL THAT IS BELOW THIS LINE\n",
    "\"\"\"\n",
    "tests.test_train_nn(train_neural_network)"
   ]
  },
  {
   "cell_type": "markdown",
   "metadata": {},
   "source": [
    "### Show Stats\n",
    "Implement the function `print_stats` to print loss and validation accuracy.  Use the global variables `valid_features` and `valid_labels` to calculate validation accuracy.  Use a keep probability of `1.0` to calculate the loss and validation accuracy."
   ]
  },
  {
   "cell_type": "code",
   "execution_count": 40,
   "metadata": {},
   "outputs": [],
   "source": [
    "def print_stats(session, feature_batch, label_batch, cost, accuracy):\n",
    "    \"\"\"\n",
    "    Print information about loss and validation accuracy\n",
    "    : session: Current TensorFlow session\n",
    "    : feature_batch: Batch of Numpy image data\n",
    "    : label_batch: Batch of Numpy label data\n",
    "    : cost: TensorFlow cost function\n",
    "    : accuracy: TensorFlow accuracy function\n",
    "    \"\"\"\n",
    "    # TODO: Implement Function\n",
    "    loss = session.run(cost, feed_dict={x:feature_batch, y:label_batch, keep_prob:1.})\n",
    "    valid_acc = session.run(accuracy, feed_dict={x:valid_features, y:valid_labels, keep_prob:1.})\n",
    "    print('Loss: {:>10.4f} Validation Accuracy: {:.6f}'.format(loss, valid_acc))"
   ]
  },
  {
   "cell_type": "markdown",
   "metadata": {},
   "source": [
    "### Hyperparameters\n",
    "Tune the following parameters:\n",
    "* Set `epochs` to the number of iterations until the network stops learning or start overfitting\n",
    "* Set `batch_size` to the highest number that your machine has memory for.  Most people set them to common sizes of memory:\n",
    " * 64\n",
    " * 128\n",
    " * 256\n",
    " * ...\n",
    "* Set `keep_probability` to the probability of keeping a node using dropout"
   ]
  },
  {
   "cell_type": "code",
   "execution_count": 43,
   "metadata": {
    "collapsed": true
   },
   "outputs": [],
   "source": [
    "# TODO: Tune Parameters\n",
    "epochs = 50\n",
    "batch_size = 512\n",
    "keep_probability = 0.6"
   ]
  },
  {
   "cell_type": "markdown",
   "metadata": {},
   "source": [
    "### Train on a Single CIFAR-10 Batch\n",
    "Instead of training the neural network on all the CIFAR-10 batches of data, let's use a single batch. This should save time while you iterate on the model to get a better accuracy.  Once the final validation accuracy is 50% or greater, run the model on all the data in the next section."
   ]
  },
  {
   "cell_type": "code",
   "execution_count": 44,
   "metadata": {},
   "outputs": [
    {
     "name": "stdout",
     "output_type": "stream",
     "text": [
      "Checking the Training on a Single Batch...\n",
      "Epoch  1, CIFAR-10 Batch 1:  Loss:     2.2269 Validation Accuracy: 0.217400\n",
      "Epoch  2, CIFAR-10 Batch 1:  Loss:     2.0793 Validation Accuracy: 0.277800\n",
      "Epoch  3, CIFAR-10 Batch 1:  Loss:     1.9679 Validation Accuracy: 0.328800\n",
      "Epoch  4, CIFAR-10 Batch 1:  Loss:     1.8527 Validation Accuracy: 0.342800\n",
      "Epoch  5, CIFAR-10 Batch 1:  Loss:     1.7686 Validation Accuracy: 0.382000\n",
      "Epoch  6, CIFAR-10 Batch 1:  Loss:     1.7148 Validation Accuracy: 0.387000\n",
      "Epoch  7, CIFAR-10 Batch 1:  Loss:     1.6191 Validation Accuracy: 0.415000\n",
      "Epoch  8, CIFAR-10 Batch 1:  Loss:     1.5616 Validation Accuracy: 0.453200\n",
      "Epoch  9, CIFAR-10 Batch 1:  Loss:     1.5194 Validation Accuracy: 0.457000\n",
      "Epoch 10, CIFAR-10 Batch 1:  Loss:     1.4625 Validation Accuracy: 0.473600\n",
      "Epoch 11, CIFAR-10 Batch 1:  Loss:     1.4184 Validation Accuracy: 0.474000\n",
      "Epoch 12, CIFAR-10 Batch 1:  Loss:     1.3895 Validation Accuracy: 0.482200\n",
      "Epoch 13, CIFAR-10 Batch 1:  Loss:     1.3286 Validation Accuracy: 0.502200\n",
      "Epoch 14, CIFAR-10 Batch 1:  Loss:     1.2874 Validation Accuracy: 0.509000\n",
      "Epoch 15, CIFAR-10 Batch 1:  Loss:     1.2365 Validation Accuracy: 0.511800\n",
      "Epoch 16, CIFAR-10 Batch 1:  Loss:     1.1966 Validation Accuracy: 0.526800\n",
      "Epoch 17, CIFAR-10 Batch 1:  Loss:     1.1617 Validation Accuracy: 0.529000\n",
      "Epoch 18, CIFAR-10 Batch 1:  Loss:     1.1135 Validation Accuracy: 0.538600\n",
      "Epoch 19, CIFAR-10 Batch 1:  Loss:     1.1072 Validation Accuracy: 0.535800\n",
      "Epoch 20, CIFAR-10 Batch 1:  Loss:     1.0498 Validation Accuracy: 0.538400\n",
      "Epoch 21, CIFAR-10 Batch 1:  Loss:     1.0260 Validation Accuracy: 0.539800\n",
      "Epoch 22, CIFAR-10 Batch 1:  Loss:     1.0073 Validation Accuracy: 0.541600\n",
      "Epoch 23, CIFAR-10 Batch 1:  Loss:     0.9951 Validation Accuracy: 0.541400\n",
      "Epoch 24, CIFAR-10 Batch 1:  Loss:     0.9697 Validation Accuracy: 0.558000\n",
      "Epoch 25, CIFAR-10 Batch 1:  Loss:     0.9291 Validation Accuracy: 0.562600\n",
      "Epoch 26, CIFAR-10 Batch 1:  Loss:     0.9480 Validation Accuracy: 0.544400\n",
      "Epoch 27, CIFAR-10 Batch 1:  Loss:     0.9185 Validation Accuracy: 0.537000\n",
      "Epoch 28, CIFAR-10 Batch 1:  Loss:     0.8268 Validation Accuracy: 0.573200\n",
      "Epoch 29, CIFAR-10 Batch 1:  Loss:     0.8187 Validation Accuracy: 0.569600\n",
      "Epoch 30, CIFAR-10 Batch 1:  Loss:     0.7826 Validation Accuracy: 0.565800\n",
      "Epoch 31, CIFAR-10 Batch 1:  Loss:     0.7646 Validation Accuracy: 0.570400\n",
      "Epoch 32, CIFAR-10 Batch 1:  Loss:     0.7732 Validation Accuracy: 0.554600\n",
      "Epoch 33, CIFAR-10 Batch 1:  Loss:     0.7135 Validation Accuracy: 0.575600\n",
      "Epoch 34, CIFAR-10 Batch 1:  Loss:     0.6644 Validation Accuracy: 0.580000\n",
      "Epoch 35, CIFAR-10 Batch 1:  Loss:     0.6560 Validation Accuracy: 0.580000\n",
      "Epoch 36, CIFAR-10 Batch 1:  Loss:     0.6143 Validation Accuracy: 0.589400\n",
      "Epoch 37, CIFAR-10 Batch 1:  Loss:     0.6030 Validation Accuracy: 0.591800\n",
      "Epoch 38, CIFAR-10 Batch 1:  Loss:     0.5939 Validation Accuracy: 0.584800\n",
      "Epoch 39, CIFAR-10 Batch 1:  Loss:     0.5931 Validation Accuracy: 0.581800\n",
      "Epoch 40, CIFAR-10 Batch 1:  Loss:     0.5915 Validation Accuracy: 0.582400\n",
      "Epoch 41, CIFAR-10 Batch 1:  Loss:     0.5897 Validation Accuracy: 0.583000\n",
      "Epoch 42, CIFAR-10 Batch 1:  Loss:     0.5601 Validation Accuracy: 0.584000\n",
      "Epoch 43, CIFAR-10 Batch 1:  Loss:     0.5869 Validation Accuracy: 0.571000\n",
      "Epoch 44, CIFAR-10 Batch 1:  Loss:     0.4940 Validation Accuracy: 0.600400\n",
      "Epoch 45, CIFAR-10 Batch 1:  Loss:     0.4988 Validation Accuracy: 0.600000\n",
      "Epoch 46, CIFAR-10 Batch 1:  Loss:     0.4671 Validation Accuracy: 0.601200\n",
      "Epoch 47, CIFAR-10 Batch 1:  Loss:     0.4606 Validation Accuracy: 0.597000\n",
      "Epoch 48, CIFAR-10 Batch 1:  Loss:     0.4306 Validation Accuracy: 0.601800\n",
      "Epoch 49, CIFAR-10 Batch 1:  Loss:     0.4227 Validation Accuracy: 0.595800\n",
      "Epoch 50, CIFAR-10 Batch 1:  Loss:     0.3986 Validation Accuracy: 0.605800\n"
     ]
    }
   ],
   "source": [
    "\"\"\"\n",
    "DON'T MODIFY ANYTHING IN THIS CELL\n",
    "\"\"\"\n",
    "print('Checking the Training on a Single Batch...')\n",
    "with tf.Session() as sess:\n",
    "    # Initializing the variables\n",
    "    sess.run(tf.global_variables_initializer())\n",
    "    \n",
    "    # Training cycle\n",
    "    for epoch in range(epochs):\n",
    "        batch_i = 1\n",
    "        for batch_features, batch_labels in helper.load_preprocess_training_batch(batch_i, batch_size):\n",
    "            train_neural_network(sess, optimizer, keep_probability, batch_features, batch_labels)\n",
    "        print('Epoch {:>2}, CIFAR-10 Batch {}:  '.format(epoch + 1, batch_i), end='')\n",
    "        print_stats(sess, batch_features, batch_labels, cost, accuracy)"
   ]
  },
  {
   "cell_type": "markdown",
   "metadata": {},
   "source": [
    "### Fully Train the Model\n",
    "Now that you got a good accuracy with a single CIFAR-10 batch, try it with all five batches."
   ]
  },
  {
   "cell_type": "code",
   "execution_count": 45,
   "metadata": {},
   "outputs": [
    {
     "name": "stdout",
     "output_type": "stream",
     "text": [
      "Training...\n",
      "Epoch  1, CIFAR-10 Batch 1:  Loss:     2.2303 Validation Accuracy: 0.195400\n",
      "Epoch  1, CIFAR-10 Batch 2:  Loss:     2.0579 Validation Accuracy: 0.227800\n",
      "Epoch  1, CIFAR-10 Batch 3:  Loss:     1.9827 Validation Accuracy: 0.274800\n",
      "Epoch  1, CIFAR-10 Batch 4:  Loss:     1.8620 Validation Accuracy: 0.315800\n",
      "Epoch  1, CIFAR-10 Batch 5:  Loss:     1.7828 Validation Accuracy: 0.350600\n",
      "Epoch  2, CIFAR-10 Batch 1:  Loss:     1.8075 Validation Accuracy: 0.363600\n",
      "Epoch  2, CIFAR-10 Batch 2:  Loss:     1.6617 Validation Accuracy: 0.399000\n",
      "Epoch  2, CIFAR-10 Batch 3:  Loss:     1.5257 Validation Accuracy: 0.408200\n",
      "Epoch  2, CIFAR-10 Batch 4:  Loss:     1.4967 Validation Accuracy: 0.427600\n",
      "Epoch  2, CIFAR-10 Batch 5:  Loss:     1.5465 Validation Accuracy: 0.436600\n",
      "Epoch  3, CIFAR-10 Batch 1:  Loss:     1.5954 Validation Accuracy: 0.440400\n",
      "Epoch  3, CIFAR-10 Batch 2:  Loss:     1.4839 Validation Accuracy: 0.468400\n",
      "Epoch  3, CIFAR-10 Batch 3:  Loss:     1.2986 Validation Accuracy: 0.454400\n",
      "Epoch  3, CIFAR-10 Batch 4:  Loss:     1.3336 Validation Accuracy: 0.479200\n",
      "Epoch  3, CIFAR-10 Batch 5:  Loss:     1.3564 Validation Accuracy: 0.480200\n",
      "Epoch  4, CIFAR-10 Batch 1:  Loss:     1.4703 Validation Accuracy: 0.483000\n",
      "Epoch  4, CIFAR-10 Batch 2:  Loss:     1.3846 Validation Accuracy: 0.482600\n",
      "Epoch  4, CIFAR-10 Batch 3:  Loss:     1.1832 Validation Accuracy: 0.508600\n",
      "Epoch  4, CIFAR-10 Batch 4:  Loss:     1.2201 Validation Accuracy: 0.512000\n",
      "Epoch  4, CIFAR-10 Batch 5:  Loss:     1.2805 Validation Accuracy: 0.512000\n",
      "Epoch  5, CIFAR-10 Batch 1:  Loss:     1.3837 Validation Accuracy: 0.503800\n",
      "Epoch  5, CIFAR-10 Batch 2:  Loss:     1.2705 Validation Accuracy: 0.519400\n",
      "Epoch  5, CIFAR-10 Batch 3:  Loss:     1.1290 Validation Accuracy: 0.511600\n",
      "Epoch  5, CIFAR-10 Batch 4:  Loss:     1.1329 Validation Accuracy: 0.531000\n",
      "Epoch  5, CIFAR-10 Batch 5:  Loss:     1.1981 Validation Accuracy: 0.533000\n",
      "Epoch  6, CIFAR-10 Batch 1:  Loss:     1.2738 Validation Accuracy: 0.546200\n",
      "Epoch  6, CIFAR-10 Batch 2:  Loss:     1.1994 Validation Accuracy: 0.552200\n",
      "Epoch  6, CIFAR-10 Batch 3:  Loss:     1.0945 Validation Accuracy: 0.515200\n",
      "Epoch  6, CIFAR-10 Batch 4:  Loss:     1.0646 Validation Accuracy: 0.545800\n",
      "Epoch  6, CIFAR-10 Batch 5:  Loss:     1.1261 Validation Accuracy: 0.547400\n",
      "Epoch  7, CIFAR-10 Batch 1:  Loss:     1.2037 Validation Accuracy: 0.571600\n",
      "Epoch  7, CIFAR-10 Batch 2:  Loss:     1.1412 Validation Accuracy: 0.572000\n",
      "Epoch  7, CIFAR-10 Batch 3:  Loss:     1.0497 Validation Accuracy: 0.532800\n",
      "Epoch  7, CIFAR-10 Batch 4:  Loss:     1.0091 Validation Accuracy: 0.565400\n",
      "Epoch  7, CIFAR-10 Batch 5:  Loss:     1.0763 Validation Accuracy: 0.575800\n",
      "Epoch  8, CIFAR-10 Batch 1:  Loss:     1.1335 Validation Accuracy: 0.576000\n",
      "Epoch  8, CIFAR-10 Batch 2:  Loss:     1.0442 Validation Accuracy: 0.581600\n",
      "Epoch  8, CIFAR-10 Batch 3:  Loss:     0.9677 Validation Accuracy: 0.571200\n",
      "Epoch  8, CIFAR-10 Batch 4:  Loss:     0.9378 Validation Accuracy: 0.578000\n",
      "Epoch  8, CIFAR-10 Batch 5:  Loss:     1.0295 Validation Accuracy: 0.585200\n",
      "Epoch  9, CIFAR-10 Batch 1:  Loss:     1.1021 Validation Accuracy: 0.595600\n",
      "Epoch  9, CIFAR-10 Batch 2:  Loss:     1.0303 Validation Accuracy: 0.579800\n",
      "Epoch  9, CIFAR-10 Batch 3:  Loss:     0.9228 Validation Accuracy: 0.595400\n",
      "Epoch  9, CIFAR-10 Batch 4:  Loss:     0.8995 Validation Accuracy: 0.597000\n",
      "Epoch  9, CIFAR-10 Batch 5:  Loss:     0.9835 Validation Accuracy: 0.598000\n",
      "Epoch 10, CIFAR-10 Batch 1:  Loss:     1.0447 Validation Accuracy: 0.601200\n",
      "Epoch 10, CIFAR-10 Batch 2:  Loss:     0.9929 Validation Accuracy: 0.590200\n",
      "Epoch 10, CIFAR-10 Batch 3:  Loss:     0.8776 Validation Accuracy: 0.606600\n",
      "Epoch 10, CIFAR-10 Batch 4:  Loss:     0.8460 Validation Accuracy: 0.592400\n",
      "Epoch 10, CIFAR-10 Batch 5:  Loss:     0.9253 Validation Accuracy: 0.609800\n",
      "Epoch 11, CIFAR-10 Batch 1:  Loss:     1.0026 Validation Accuracy: 0.602400\n",
      "Epoch 11, CIFAR-10 Batch 2:  Loss:     0.9572 Validation Accuracy: 0.618600\n",
      "Epoch 11, CIFAR-10 Batch 3:  Loss:     0.8450 Validation Accuracy: 0.610600\n",
      "Epoch 11, CIFAR-10 Batch 4:  Loss:     0.7944 Validation Accuracy: 0.618800\n",
      "Epoch 11, CIFAR-10 Batch 5:  Loss:     0.8847 Validation Accuracy: 0.619800\n",
      "Epoch 12, CIFAR-10 Batch 1:  Loss:     0.9675 Validation Accuracy: 0.622000\n",
      "Epoch 12, CIFAR-10 Batch 2:  Loss:     0.9045 Validation Accuracy: 0.619800\n",
      "Epoch 12, CIFAR-10 Batch 3:  Loss:     0.7975 Validation Accuracy: 0.622600\n",
      "Epoch 12, CIFAR-10 Batch 4:  Loss:     0.7527 Validation Accuracy: 0.624600\n",
      "Epoch 12, CIFAR-10 Batch 5:  Loss:     0.8466 Validation Accuracy: 0.635400\n",
      "Epoch 13, CIFAR-10 Batch 1:  Loss:     0.9136 Validation Accuracy: 0.630200\n",
      "Epoch 13, CIFAR-10 Batch 2:  Loss:     0.8234 Validation Accuracy: 0.635400\n",
      "Epoch 13, CIFAR-10 Batch 3:  Loss:     0.7679 Validation Accuracy: 0.638800\n",
      "Epoch 13, CIFAR-10 Batch 4:  Loss:     0.7121 Validation Accuracy: 0.642600\n",
      "Epoch 13, CIFAR-10 Batch 5:  Loss:     0.8169 Validation Accuracy: 0.642000\n",
      "Epoch 14, CIFAR-10 Batch 1:  Loss:     0.9097 Validation Accuracy: 0.631000\n",
      "Epoch 14, CIFAR-10 Batch 2:  Loss:     0.8333 Validation Accuracy: 0.638200\n",
      "Epoch 14, CIFAR-10 Batch 3:  Loss:     0.7102 Validation Accuracy: 0.649600\n",
      "Epoch 14, CIFAR-10 Batch 4:  Loss:     0.6708 Validation Accuracy: 0.648200\n",
      "Epoch 14, CIFAR-10 Batch 5:  Loss:     0.7962 Validation Accuracy: 0.647400\n",
      "Epoch 15, CIFAR-10 Batch 1:  Loss:     0.8515 Validation Accuracy: 0.652800\n",
      "Epoch 15, CIFAR-10 Batch 2:  Loss:     0.8152 Validation Accuracy: 0.642800\n",
      "Epoch 15, CIFAR-10 Batch 3:  Loss:     0.6773 Validation Accuracy: 0.644400\n",
      "Epoch 15, CIFAR-10 Batch 4:  Loss:     0.6354 Validation Accuracy: 0.651400\n",
      "Epoch 15, CIFAR-10 Batch 5:  Loss:     0.7959 Validation Accuracy: 0.654400\n",
      "Epoch 16, CIFAR-10 Batch 1:  Loss:     0.8259 Validation Accuracy: 0.655400\n",
      "Epoch 16, CIFAR-10 Batch 2:  Loss:     0.7960 Validation Accuracy: 0.642600\n",
      "Epoch 16, CIFAR-10 Batch 3:  Loss:     0.6535 Validation Accuracy: 0.657000\n",
      "Epoch 16, CIFAR-10 Batch 4:  Loss:     0.6097 Validation Accuracy: 0.660400\n",
      "Epoch 16, CIFAR-10 Batch 5:  Loss:     0.7462 Validation Accuracy: 0.660400\n",
      "Epoch 17, CIFAR-10 Batch 1:  Loss:     0.7957 Validation Accuracy: 0.655400\n",
      "Epoch 17, CIFAR-10 Batch 2:  Loss:     0.7254 Validation Accuracy: 0.660800\n",
      "Epoch 17, CIFAR-10 Batch 3:  Loss:     0.6587 Validation Accuracy: 0.662400\n",
      "Epoch 17, CIFAR-10 Batch 4:  Loss:     0.5908 Validation Accuracy: 0.671800\n",
      "Epoch 17, CIFAR-10 Batch 5:  Loss:     0.7238 Validation Accuracy: 0.662800\n",
      "Epoch 18, CIFAR-10 Batch 1:  Loss:     0.7604 Validation Accuracy: 0.650600\n",
      "Epoch 18, CIFAR-10 Batch 2:  Loss:     0.6633 Validation Accuracy: 0.675200\n",
      "Epoch 18, CIFAR-10 Batch 3:  Loss:     0.5987 Validation Accuracy: 0.667000\n",
      "Epoch 18, CIFAR-10 Batch 4:  Loss:     0.5724 Validation Accuracy: 0.668000\n",
      "Epoch 18, CIFAR-10 Batch 5:  Loss:     0.6876 Validation Accuracy: 0.662600\n",
      "Epoch 19, CIFAR-10 Batch 1:  Loss:     0.7652 Validation Accuracy: 0.643800\n",
      "Epoch 19, CIFAR-10 Batch 2:  Loss:     0.6774 Validation Accuracy: 0.677800\n",
      "Epoch 19, CIFAR-10 Batch 3:  Loss:     0.5989 Validation Accuracy: 0.675800\n",
      "Epoch 19, CIFAR-10 Batch 4:  Loss:     0.5635 Validation Accuracy: 0.672000\n",
      "Epoch 19, CIFAR-10 Batch 5:  Loss:     0.6691 Validation Accuracy: 0.668800\n",
      "Epoch 20, CIFAR-10 Batch 1:  Loss:     0.7207 Validation Accuracy: 0.655000\n",
      "Epoch 20, CIFAR-10 Batch 2:  Loss:     0.6716 Validation Accuracy: 0.671800\n",
      "Epoch 20, CIFAR-10 Batch 3:  Loss:     0.5688 Validation Accuracy: 0.676000\n",
      "Epoch 20, CIFAR-10 Batch 4:  Loss:     0.5326 Validation Accuracy: 0.687600\n",
      "Epoch 20, CIFAR-10 Batch 5:  Loss:     0.6144 Validation Accuracy: 0.679000\n",
      "Epoch 21, CIFAR-10 Batch 1:  Loss:     0.6769 Validation Accuracy: 0.668400\n",
      "Epoch 21, CIFAR-10 Batch 2:  Loss:     0.6422 Validation Accuracy: 0.669600\n",
      "Epoch 21, CIFAR-10 Batch 3:  Loss:     0.5543 Validation Accuracy: 0.670200\n",
      "Epoch 21, CIFAR-10 Batch 4:  Loss:     0.5299 Validation Accuracy: 0.680000\n",
      "Epoch 21, CIFAR-10 Batch 5:  Loss:     0.6403 Validation Accuracy: 0.671400\n",
      "Epoch 22, CIFAR-10 Batch 1:  Loss:     0.6161 Validation Accuracy: 0.681200\n",
      "Epoch 22, CIFAR-10 Batch 2:  Loss:     0.5505 Validation Accuracy: 0.690200\n"
     ]
    },
    {
     "name": "stdout",
     "output_type": "stream",
     "text": [
      "Epoch 22, CIFAR-10 Batch 3:  Loss:     0.5322 Validation Accuracy: 0.677800\n",
      "Epoch 22, CIFAR-10 Batch 4:  Loss:     0.5033 Validation Accuracy: 0.678200\n",
      "Epoch 22, CIFAR-10 Batch 5:  Loss:     0.5806 Validation Accuracy: 0.684200\n",
      "Epoch 23, CIFAR-10 Batch 1:  Loss:     0.6063 Validation Accuracy: 0.688200\n",
      "Epoch 23, CIFAR-10 Batch 2:  Loss:     0.5422 Validation Accuracy: 0.697000\n",
      "Epoch 23, CIFAR-10 Batch 3:  Loss:     0.5025 Validation Accuracy: 0.687000\n",
      "Epoch 23, CIFAR-10 Batch 4:  Loss:     0.4754 Validation Accuracy: 0.686000\n",
      "Epoch 23, CIFAR-10 Batch 5:  Loss:     0.5541 Validation Accuracy: 0.686000\n",
      "Epoch 24, CIFAR-10 Batch 1:  Loss:     0.6094 Validation Accuracy: 0.677000\n",
      "Epoch 24, CIFAR-10 Batch 2:  Loss:     0.5543 Validation Accuracy: 0.686600\n",
      "Epoch 24, CIFAR-10 Batch 3:  Loss:     0.4900 Validation Accuracy: 0.687600\n",
      "Epoch 24, CIFAR-10 Batch 4:  Loss:     0.4735 Validation Accuracy: 0.683000\n",
      "Epoch 24, CIFAR-10 Batch 5:  Loss:     0.5152 Validation Accuracy: 0.691800\n",
      "Epoch 25, CIFAR-10 Batch 1:  Loss:     0.5812 Validation Accuracy: 0.682600\n",
      "Epoch 25, CIFAR-10 Batch 2:  Loss:     0.5066 Validation Accuracy: 0.692600\n",
      "Epoch 25, CIFAR-10 Batch 3:  Loss:     0.4919 Validation Accuracy: 0.687400\n",
      "Epoch 25, CIFAR-10 Batch 4:  Loss:     0.4742 Validation Accuracy: 0.677800\n",
      "Epoch 25, CIFAR-10 Batch 5:  Loss:     0.4919 Validation Accuracy: 0.695000\n",
      "Epoch 26, CIFAR-10 Batch 1:  Loss:     0.5551 Validation Accuracy: 0.703800\n",
      "Epoch 26, CIFAR-10 Batch 2:  Loss:     0.4757 Validation Accuracy: 0.692000\n",
      "Epoch 26, CIFAR-10 Batch 3:  Loss:     0.4763 Validation Accuracy: 0.695400\n",
      "Epoch 26, CIFAR-10 Batch 4:  Loss:     0.4395 Validation Accuracy: 0.680000\n",
      "Epoch 26, CIFAR-10 Batch 5:  Loss:     0.5018 Validation Accuracy: 0.693400\n",
      "Epoch 27, CIFAR-10 Batch 1:  Loss:     0.5399 Validation Accuracy: 0.689600\n",
      "Epoch 27, CIFAR-10 Batch 2:  Loss:     0.4615 Validation Accuracy: 0.689200\n",
      "Epoch 27, CIFAR-10 Batch 3:  Loss:     0.4485 Validation Accuracy: 0.700600\n",
      "Epoch 27, CIFAR-10 Batch 4:  Loss:     0.4546 Validation Accuracy: 0.678600\n",
      "Epoch 27, CIFAR-10 Batch 5:  Loss:     0.4881 Validation Accuracy: 0.702800\n",
      "Epoch 28, CIFAR-10 Batch 1:  Loss:     0.5015 Validation Accuracy: 0.701200\n",
      "Epoch 28, CIFAR-10 Batch 2:  Loss:     0.4377 Validation Accuracy: 0.691600\n",
      "Epoch 28, CIFAR-10 Batch 3:  Loss:     0.4285 Validation Accuracy: 0.702000\n",
      "Epoch 28, CIFAR-10 Batch 4:  Loss:     0.4144 Validation Accuracy: 0.688600\n",
      "Epoch 28, CIFAR-10 Batch 5:  Loss:     0.4352 Validation Accuracy: 0.704200\n",
      "Epoch 29, CIFAR-10 Batch 1:  Loss:     0.4873 Validation Accuracy: 0.707600\n",
      "Epoch 29, CIFAR-10 Batch 2:  Loss:     0.4103 Validation Accuracy: 0.687800\n",
      "Epoch 29, CIFAR-10 Batch 3:  Loss:     0.4351 Validation Accuracy: 0.700600\n",
      "Epoch 29, CIFAR-10 Batch 4:  Loss:     0.3699 Validation Accuracy: 0.696800\n",
      "Epoch 29, CIFAR-10 Batch 5:  Loss:     0.4184 Validation Accuracy: 0.696400\n",
      "Epoch 30, CIFAR-10 Batch 1:  Loss:     0.4735 Validation Accuracy: 0.705800\n",
      "Epoch 30, CIFAR-10 Batch 2:  Loss:     0.3853 Validation Accuracy: 0.706200\n",
      "Epoch 30, CIFAR-10 Batch 3:  Loss:     0.4064 Validation Accuracy: 0.696400\n",
      "Epoch 30, CIFAR-10 Batch 4:  Loss:     0.3780 Validation Accuracy: 0.693200\n",
      "Epoch 30, CIFAR-10 Batch 5:  Loss:     0.4091 Validation Accuracy: 0.703200\n",
      "Epoch 31, CIFAR-10 Batch 1:  Loss:     0.4453 Validation Accuracy: 0.708600\n",
      "Epoch 31, CIFAR-10 Batch 2:  Loss:     0.3706 Validation Accuracy: 0.693400\n",
      "Epoch 31, CIFAR-10 Batch 3:  Loss:     0.3721 Validation Accuracy: 0.692200\n",
      "Epoch 31, CIFAR-10 Batch 4:  Loss:     0.3736 Validation Accuracy: 0.688400\n",
      "Epoch 31, CIFAR-10 Batch 5:  Loss:     0.4048 Validation Accuracy: 0.700000\n",
      "Epoch 32, CIFAR-10 Batch 1:  Loss:     0.4537 Validation Accuracy: 0.709600\n",
      "Epoch 32, CIFAR-10 Batch 2:  Loss:     0.3811 Validation Accuracy: 0.695600\n",
      "Epoch 32, CIFAR-10 Batch 3:  Loss:     0.3619 Validation Accuracy: 0.703200\n",
      "Epoch 32, CIFAR-10 Batch 4:  Loss:     0.3311 Validation Accuracy: 0.699200\n",
      "Epoch 32, CIFAR-10 Batch 5:  Loss:     0.3682 Validation Accuracy: 0.706200\n",
      "Epoch 33, CIFAR-10 Batch 1:  Loss:     0.4302 Validation Accuracy: 0.715200\n",
      "Epoch 33, CIFAR-10 Batch 2:  Loss:     0.3636 Validation Accuracy: 0.689400\n",
      "Epoch 33, CIFAR-10 Batch 3:  Loss:     0.3536 Validation Accuracy: 0.703600\n",
      "Epoch 33, CIFAR-10 Batch 4:  Loss:     0.3237 Validation Accuracy: 0.707600\n",
      "Epoch 33, CIFAR-10 Batch 5:  Loss:     0.3381 Validation Accuracy: 0.718800\n",
      "Epoch 34, CIFAR-10 Batch 1:  Loss:     0.4124 Validation Accuracy: 0.716800\n",
      "Epoch 34, CIFAR-10 Batch 2:  Loss:     0.3279 Validation Accuracy: 0.699600\n",
      "Epoch 34, CIFAR-10 Batch 3:  Loss:     0.3367 Validation Accuracy: 0.710600\n",
      "Epoch 34, CIFAR-10 Batch 4:  Loss:     0.3122 Validation Accuracy: 0.706400\n",
      "Epoch 34, CIFAR-10 Batch 5:  Loss:     0.3094 Validation Accuracy: 0.714200\n",
      "Epoch 35, CIFAR-10 Batch 1:  Loss:     0.4013 Validation Accuracy: 0.711000\n",
      "Epoch 35, CIFAR-10 Batch 2:  Loss:     0.3231 Validation Accuracy: 0.703800\n",
      "Epoch 35, CIFAR-10 Batch 3:  Loss:     0.3216 Validation Accuracy: 0.713200\n",
      "Epoch 35, CIFAR-10 Batch 4:  Loss:     0.3063 Validation Accuracy: 0.706200\n",
      "Epoch 35, CIFAR-10 Batch 5:  Loss:     0.2969 Validation Accuracy: 0.711800\n",
      "Epoch 36, CIFAR-10 Batch 1:  Loss:     0.4106 Validation Accuracy: 0.708200\n",
      "Epoch 36, CIFAR-10 Batch 2:  Loss:     0.2972 Validation Accuracy: 0.707600\n",
      "Epoch 36, CIFAR-10 Batch 3:  Loss:     0.3170 Validation Accuracy: 0.720200\n",
      "Epoch 36, CIFAR-10 Batch 4:  Loss:     0.2798 Validation Accuracy: 0.712200\n",
      "Epoch 36, CIFAR-10 Batch 5:  Loss:     0.3052 Validation Accuracy: 0.712000\n",
      "Epoch 37, CIFAR-10 Batch 1:  Loss:     0.3811 Validation Accuracy: 0.704200\n",
      "Epoch 37, CIFAR-10 Batch 2:  Loss:     0.3285 Validation Accuracy: 0.707000\n",
      "Epoch 37, CIFAR-10 Batch 3:  Loss:     0.3120 Validation Accuracy: 0.705400\n",
      "Epoch 37, CIFAR-10 Batch 4:  Loss:     0.2785 Validation Accuracy: 0.706000\n",
      "Epoch 37, CIFAR-10 Batch 5:  Loss:     0.3005 Validation Accuracy: 0.711000\n",
      "Epoch 38, CIFAR-10 Batch 1:  Loss:     0.3567 Validation Accuracy: 0.701600\n",
      "Epoch 38, CIFAR-10 Batch 2:  Loss:     0.2983 Validation Accuracy: 0.709600\n",
      "Epoch 38, CIFAR-10 Batch 3:  Loss:     0.2997 Validation Accuracy: 0.707000\n",
      "Epoch 38, CIFAR-10 Batch 4:  Loss:     0.2708 Validation Accuracy: 0.713000\n",
      "Epoch 38, CIFAR-10 Batch 5:  Loss:     0.2848 Validation Accuracy: 0.715800\n",
      "Epoch 39, CIFAR-10 Batch 1:  Loss:     0.3564 Validation Accuracy: 0.699000\n",
      "Epoch 39, CIFAR-10 Batch 2:  Loss:     0.3387 Validation Accuracy: 0.704200\n",
      "Epoch 39, CIFAR-10 Batch 3:  Loss:     0.2962 Validation Accuracy: 0.704600\n",
      "Epoch 39, CIFAR-10 Batch 4:  Loss:     0.2793 Validation Accuracy: 0.706600\n",
      "Epoch 39, CIFAR-10 Batch 5:  Loss:     0.2596 Validation Accuracy: 0.714200\n",
      "Epoch 40, CIFAR-10 Batch 1:  Loss:     0.3294 Validation Accuracy: 0.709600\n",
      "Epoch 40, CIFAR-10 Batch 2:  Loss:     0.2790 Validation Accuracy: 0.707200\n",
      "Epoch 40, CIFAR-10 Batch 3:  Loss:     0.2712 Validation Accuracy: 0.720000\n",
      "Epoch 40, CIFAR-10 Batch 4:  Loss:     0.2656 Validation Accuracy: 0.701000\n",
      "Epoch 40, CIFAR-10 Batch 5:  Loss:     0.2829 Validation Accuracy: 0.706400\n",
      "Epoch 41, CIFAR-10 Batch 1:  Loss:     0.3001 Validation Accuracy: 0.715600\n",
      "Epoch 41, CIFAR-10 Batch 2:  Loss:     0.2620 Validation Accuracy: 0.702000\n",
      "Epoch 41, CIFAR-10 Batch 3:  Loss:     0.2708 Validation Accuracy: 0.719200\n",
      "Epoch 41, CIFAR-10 Batch 4:  Loss:     0.2569 Validation Accuracy: 0.697000\n",
      "Epoch 41, CIFAR-10 Batch 5:  Loss:     0.2319 Validation Accuracy: 0.710800\n",
      "Epoch 42, CIFAR-10 Batch 1:  Loss:     0.3094 Validation Accuracy: 0.707000\n",
      "Epoch 42, CIFAR-10 Batch 2:  Loss:     0.2421 Validation Accuracy: 0.716000\n",
      "Epoch 42, CIFAR-10 Batch 3:  Loss:     0.2633 Validation Accuracy: 0.712200\n",
      "Epoch 42, CIFAR-10 Batch 4:  Loss:     0.2665 Validation Accuracy: 0.694800\n",
      "Epoch 42, CIFAR-10 Batch 5:  Loss:     0.2542 Validation Accuracy: 0.709600\n",
      "Epoch 43, CIFAR-10 Batch 1:  Loss:     0.3089 Validation Accuracy: 0.702400\n",
      "Epoch 43, CIFAR-10 Batch 2:  Loss:     0.2519 Validation Accuracy: 0.719600\n",
      "Epoch 43, CIFAR-10 Batch 3:  Loss:     0.2464 Validation Accuracy: 0.710400\n",
      "Epoch 43, CIFAR-10 Batch 4:  Loss:     0.2302 Validation Accuracy: 0.705600\n"
     ]
    },
    {
     "name": "stdout",
     "output_type": "stream",
     "text": [
      "Epoch 43, CIFAR-10 Batch 5:  Loss:     0.2240 Validation Accuracy: 0.715200\n",
      "Epoch 44, CIFAR-10 Batch 1:  Loss:     0.2904 Validation Accuracy: 0.702800\n",
      "Epoch 44, CIFAR-10 Batch 2:  Loss:     0.2413 Validation Accuracy: 0.706200\n",
      "Epoch 44, CIFAR-10 Batch 3:  Loss:     0.2748 Validation Accuracy: 0.699600\n",
      "Epoch 44, CIFAR-10 Batch 4:  Loss:     0.2279 Validation Accuracy: 0.700200\n",
      "Epoch 44, CIFAR-10 Batch 5:  Loss:     0.2472 Validation Accuracy: 0.711600\n",
      "Epoch 45, CIFAR-10 Batch 1:  Loss:     0.2901 Validation Accuracy: 0.707400\n",
      "Epoch 45, CIFAR-10 Batch 2:  Loss:     0.2258 Validation Accuracy: 0.720400\n",
      "Epoch 45, CIFAR-10 Batch 3:  Loss:     0.2695 Validation Accuracy: 0.699600\n",
      "Epoch 45, CIFAR-10 Batch 4:  Loss:     0.2176 Validation Accuracy: 0.700600\n",
      "Epoch 45, CIFAR-10 Batch 5:  Loss:     0.2271 Validation Accuracy: 0.713800\n",
      "Epoch 46, CIFAR-10 Batch 1:  Loss:     0.2815 Validation Accuracy: 0.703600\n",
      "Epoch 46, CIFAR-10 Batch 2:  Loss:     0.2283 Validation Accuracy: 0.718800\n",
      "Epoch 46, CIFAR-10 Batch 3:  Loss:     0.2602 Validation Accuracy: 0.697400\n",
      "Epoch 46, CIFAR-10 Batch 4:  Loss:     0.2332 Validation Accuracy: 0.702200\n",
      "Epoch 46, CIFAR-10 Batch 5:  Loss:     0.2127 Validation Accuracy: 0.718400\n",
      "Epoch 47, CIFAR-10 Batch 1:  Loss:     0.2641 Validation Accuracy: 0.712600\n",
      "Epoch 47, CIFAR-10 Batch 2:  Loss:     0.2056 Validation Accuracy: 0.716400\n",
      "Epoch 47, CIFAR-10 Batch 3:  Loss:     0.2294 Validation Accuracy: 0.708400\n",
      "Epoch 47, CIFAR-10 Batch 4:  Loss:     0.2454 Validation Accuracy: 0.694400\n",
      "Epoch 47, CIFAR-10 Batch 5:  Loss:     0.2004 Validation Accuracy: 0.722000\n",
      "Epoch 48, CIFAR-10 Batch 1:  Loss:     0.2480 Validation Accuracy: 0.705800\n",
      "Epoch 48, CIFAR-10 Batch 2:  Loss:     0.1901 Validation Accuracy: 0.716800\n",
      "Epoch 48, CIFAR-10 Batch 3:  Loss:     0.2109 Validation Accuracy: 0.707600\n",
      "Epoch 48, CIFAR-10 Batch 4:  Loss:     0.2207 Validation Accuracy: 0.703800\n",
      "Epoch 48, CIFAR-10 Batch 5:  Loss:     0.2150 Validation Accuracy: 0.713800\n",
      "Epoch 49, CIFAR-10 Batch 1:  Loss:     0.2337 Validation Accuracy: 0.713600\n",
      "Epoch 49, CIFAR-10 Batch 2:  Loss:     0.1955 Validation Accuracy: 0.716000\n",
      "Epoch 49, CIFAR-10 Batch 3:  Loss:     0.2186 Validation Accuracy: 0.718000\n",
      "Epoch 49, CIFAR-10 Batch 4:  Loss:     0.1998 Validation Accuracy: 0.705000\n",
      "Epoch 49, CIFAR-10 Batch 5:  Loss:     0.2096 Validation Accuracy: 0.710200\n",
      "Epoch 50, CIFAR-10 Batch 1:  Loss:     0.2415 Validation Accuracy: 0.716000\n",
      "Epoch 50, CIFAR-10 Batch 2:  Loss:     0.2019 Validation Accuracy: 0.708400\n",
      "Epoch 50, CIFAR-10 Batch 3:  Loss:     0.2105 Validation Accuracy: 0.713000\n",
      "Epoch 50, CIFAR-10 Batch 4:  Loss:     0.1946 Validation Accuracy: 0.709000\n",
      "Epoch 50, CIFAR-10 Batch 5:  Loss:     0.1971 Validation Accuracy: 0.713000\n"
     ]
    }
   ],
   "source": [
    "\"\"\"\n",
    "DON'T MODIFY ANYTHING IN THIS CELL\n",
    "\"\"\"\n",
    "save_model_path = './image_classification'\n",
    "\n",
    "print('Training...')\n",
    "with tf.Session() as sess:\n",
    "    # Initializing the variables\n",
    "    sess.run(tf.global_variables_initializer())\n",
    "    \n",
    "    # Training cycle\n",
    "    for epoch in range(epochs):\n",
    "        # Loop over all batches\n",
    "        n_batches = 5\n",
    "        for batch_i in range(1, n_batches + 1):\n",
    "            for batch_features, batch_labels in helper.load_preprocess_training_batch(batch_i, batch_size):\n",
    "                train_neural_network(sess, optimizer, keep_probability, batch_features, batch_labels)\n",
    "            print('Epoch {:>2}, CIFAR-10 Batch {}:  '.format(epoch + 1, batch_i), end='')\n",
    "            print_stats(sess, batch_features, batch_labels, cost, accuracy)\n",
    "            \n",
    "    # Save Model\n",
    "    saver = tf.train.Saver()\n",
    "    save_path = saver.save(sess, save_model_path)"
   ]
  },
  {
   "cell_type": "markdown",
   "metadata": {},
   "source": [
    "# Checkpoint\n",
    "The model has been saved to disk.\n",
    "## Test Model\n",
    "Test your model against the test dataset.  This will be your final accuracy. You should have an accuracy greater than 50%. If you don't, keep tweaking the model architecture and parameters."
   ]
  },
  {
   "cell_type": "code",
   "execution_count": 46,
   "metadata": {},
   "outputs": [
    {
     "name": "stdout",
     "output_type": "stream",
     "text": [
      "INFO:tensorflow:Restoring parameters from ./image_classification\n",
      "Testing Accuracy: 0.7069910377264023\n",
      "\n"
     ]
    },
    {
     "data": {
      "image/png": "[encoded data removed]",
      "text/plain": [
       "<matplotlib.figure.Figure at 0x248bebcbd68>"
      ]
     },
     "metadata": {
      "image/png": {
       "height": 319,
       "width": 355
      }
     },
     "output_type": "display_data"
    }
   ],
   "source": [
    "\"\"\"\n",
    "DON'T MODIFY ANYTHING IN THIS CELL\n",
    "\"\"\"\n",
    "%matplotlib inline\n",
    "%config InlineBackend.figure_format = 'retina'\n",
    "\n",
    "import tensorflow as tf\n",
    "import pickle\n",
    "import helper\n",
    "import random\n",
    "\n",
    "# Set batch size if not already set\n",
    "try:\n",
    "    if batch_size:\n",
    "        pass\n",
    "except NameError:\n",
    "    batch_size = 64\n",
    "\n",
    "save_model_path = './image_classification'\n",
    "n_samples = 4\n",
    "top_n_predictions = 3\n",
    "\n",
    "def test_model():\n",
    "    \"\"\"\n",
    "    Test the saved model against the test dataset\n",
    "    \"\"\"\n",
    "\n",
    "    test_features, test_labels = pickle.load(open('preprocess_training.p', mode='rb'))\n",
    "    loaded_graph = tf.Graph()\n",
    "\n",
    "    with tf.Session(graph=loaded_graph) as sess:\n",
    "        # Load model\n",
    "        loader = tf.train.import_meta_graph(save_model_path + '.meta')\n",
    "        loader.restore(sess, save_model_path)\n",
    "\n",
    "        # Get Tensors from loaded model\n",
    "        loaded_x = loaded_graph.get_tensor_by_name('x:0')\n",
    "        loaded_y = loaded_graph.get_tensor_by_name('y:0')\n",
    "        loaded_keep_prob = loaded_graph.get_tensor_by_name('keep_prob:0')\n",
    "        loaded_logits = loaded_graph.get_tensor_by_name('logits:0')\n",
    "        loaded_acc = loaded_graph.get_tensor_by_name('accuracy:0')\n",
    "        \n",
    "        # Get accuracy in batches for memory limitations\n",
    "        test_batch_acc_total = 0\n",
    "        test_batch_count = 0\n",
    "        \n",
    "        for train_feature_batch, train_label_batch in helper.batch_features_labels(test_features, test_labels, batch_size):\n",
    "            test_batch_acc_total += sess.run(\n",
    "                loaded_acc,\n",
    "                feed_dict={loaded_x: train_feature_batch, loaded_y: train_label_batch, loaded_keep_prob: 1.0})\n",
    "            test_batch_count += 1\n",
    "\n",
    "        print('Testing Accuracy: {}\\n'.format(test_batch_acc_total/test_batch_count))\n",
    "\n",
    "        # Print Random Samples\n",
    "        random_test_features, random_test_labels = tuple(zip(*random.sample(list(zip(test_features, test_labels)), n_samples)))\n",
    "        random_test_predictions = sess.run(\n",
    "            tf.nn.top_k(tf.nn.softmax(loaded_logits), top_n_predictions),\n",
    "            feed_dict={loaded_x: random_test_features, loaded_y: random_test_labels, loaded_keep_prob: 1.0})\n",
    "        helper.display_image_predictions(random_test_features, random_test_labels, random_test_predictions)\n",
    "\n",
    "\n",
    "test_model()"
   ]
  },
  {
   "cell_type": "markdown",
   "metadata": {},
   "source": [
    "## Why 50-80% Accuracy?\n",
    "You might be wondering why you can't get an accuracy any higher. First things first, 50% isn't bad for a simple CNN.  Pure guessing would get you 10% accuracy. However, you might notice people are getting scores [well above 80%](http://rodrigob.github.io/are_we_there_yet/build/classification_datasets_results.html#43494641522d3130).  That's because we haven't taught you all there is to know about neural networks. We still need to cover a few more techniques.\n",
    "## Submitting This Project\n",
    "When submitting this project, make sure to run all the cells before saving the notebook.  Save the notebook file as \"dlnd_image_classification.ipynb\" and save it as a HTML file under \"File\" -> \"Download as\".  Include the \"helper.py\" and \"problem_unittests.py\" files in your submission."
   ]
  }
 ],
 "metadata": {
  "kernelspec": {
   "display_name": "Python 3",
   "language": "python",
   "name": "python3"
  },
  "language_info": {
   "codemirror_mode": {
    "name": "ipython",
    "version": 3
   },
   "file_extension": ".py",
   "mimetype": "text/x-python",
   "name": "python",
   "nbconvert_exporter": "python",
   "pygments_lexer": "ipython3",
   "version": "3.5.4"
  }
 },
 "nbformat": 4,
 "nbformat_minor": 1
}
